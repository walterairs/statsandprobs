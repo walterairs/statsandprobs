{
 "cells": [
  {
   "cell_type": "code",
   "execution_count": 4,
   "metadata": {},
   "outputs": [],
   "source": [
    "import numpy\n",
    "import pandas"
   ]
  },
  {
   "cell_type": "markdown",
   "metadata": {},
   "source": [
    "1.1 Tilastomuuttujan 𝑥 saamat arvot ovat ja 7,6,4,4,2,5,6,7,6,5,4,5,6,7,6 ja 2. Muodosta tilastomuuttujan frekvenssitaulukko, eli jokaisen arvon frekvenssi, suhteellinen frekvenssi, summafrekvenssi ja suhteellinen summafrekvenssi."
   ]
  },
  {
   "cell_type": "code",
   "execution_count": 12,
   "metadata": {},
   "outputs": [
    {
     "name": "stdout",
     "output_type": "stream",
     "text": [
      "   frequency\n",
      "6          5\n",
      "7          3\n",
      "4          3\n",
      "5          3\n",
      "2          2\n",
      "   relative_frequency %\n",
      "6                 31.25\n",
      "7                 18.75\n",
      "4                 18.75\n",
      "5                 18.75\n",
      "2                 12.50\n",
      "   sum_frequency\n",
      "6              5\n",
      "7              8\n",
      "4             11\n",
      "5             14\n",
      "2             16\n",
      "   relative_sum_frequency %\n",
      "6                     31.25\n",
      "7                     50.00\n",
      "4                     68.75\n",
      "5                     87.50\n",
      "2                    100.00\n"
     ]
    }
   ],
   "source": [
    "###Code here\n",
    "## Let's calculate frequency, relative frequency,\n",
    "# sum frequency, and relative sum frequency\n",
    "# for each value in the list and create tables\n",
    "x = [7,6,4,4,2,5,6,7,6,5,4,5,6,7,6, 2]\n",
    "\n",
    "frequency = pandas.Series(x).value_counts()\n",
    "relative_frequency = pandas.Series(x).value_counts(normalize=True)\n",
    "sum_frequency = pandas.Series(x).value_counts().cumsum()\n",
    "relative_sum_frequency = pandas.Series(x).value_counts(normalize=True).cumsum()\n",
    "\n",
    "## Change nesesary values to percentages\n",
    "relative_frequency = relative_frequency * 100\n",
    "relative_sum_frequency = relative_sum_frequency * 100\n",
    "\n",
    "## Turn the results into a dataframe\n",
    "frequency = pandas.DataFrame(frequency, columns=['frequency'])\n",
    "relative_frequency = pandas.DataFrame(relative_frequency, columns=['relative_frequency %'])\n",
    "sum_frequency = pandas.DataFrame(sum_frequency, columns=['sum_frequency'])\n",
    "relative_sum_frequency = pandas.DataFrame(relative_sum_frequency, columns=['relative_sum_frequency %'])\n",
    "\n",
    "print(frequency)\n",
    "print(relative_frequency)\n",
    "print(sum_frequency)\n",
    "print(relative_sum_frequency)\n",
    "\n"
   ]
  },
  {
   "cell_type": "markdown",
   "metadata": {},
   "source": [
    "1.2 Laske edellisen tehtävän tilastomuuttujan keskiarvo. Mikä on muuttujan mediaani ja moodi? Keskiarvon laskemisessa kannattaa käyttää Excelin SUMPRODUCT- ja SUM-funktioita"
   ]
  },
  {
   "cell_type": "code",
   "execution_count": 17,
   "metadata": {},
   "outputs": [
    {
     "name": "stdout",
     "output_type": "stream",
     "text": [
      "average: 5.125\n",
      "median: 5.5\n",
      "mode: 6\n"
     ]
    }
   ],
   "source": [
    "####Code here\n",
    "average = numpy.mean(x)\n",
    "median = numpy.median(x)\n",
    "mode = pandas.Series(x).mode()[0]\n",
    "print(f\"average: {average}\")\n",
    "print(f\"median: {median}\")\n",
    "print(f\"mode: {mode}\")"
   ]
  },
  {
   "attachments": {
    "image.png": {
     "image/png": "[encoded data removed]"
    }
   },
   "cell_type": "markdown",
   "metadata": {},
   "source": [
    "1.3 Opettajalla on iso kotikuntosali ja hänellä on eripainoisia levypainoja tietty määrä kutakin. Levypainojen jakauman frekvenssitaulukko on alla. Mikä on jakauman keskiarvo, mediaani ja moodi?\n",
    "![image.png](attachment:image.png)"
   ]
  },
  {
   "cell_type": "code",
   "execution_count": 24,
   "metadata": {},
   "outputs": [
    {
     "name": "stdout",
     "output_type": "stream",
     "text": [
      "average: 16.11111111111111\n",
      "median: 15.0\n",
      "mode: 10\n"
     ]
    }
   ],
   "source": [
    "###Code here\n",
    "weight_frequency_kg = {5:12, 10:17, 15:13, 20:8, 25:17, 30:5}\n",
    "\n",
    "## Create a list of weights, so the calculation of average, median, and mode is easier\n",
    "list_of_weights = []\n",
    "for weight, frequency in weight_frequency_kg.items():\n",
    "    for i in range(frequency):\n",
    "        list_of_weights.append(weight)\n",
    "\n",
    "## Calculate average, median, and mode\n",
    "average = numpy.mean(list_of_weights)\n",
    "median = numpy.median(list_of_weights)\n",
    "mode = pandas.Series(list_of_weights).mode()[0]\n",
    "\n",
    "print(f\"average: {average}\")\n",
    "print(f\"median: {median}\")\n",
    "print(f\"mode: {mode}\")\n"
   ]
  },
  {
   "attachments": {
    "image.png": {
     "image/png": "[encoded data removed]"
    }
   },
   "cell_type": "markdown",
   "metadata": {},
   "source": [
    "1.4 Suuri kissojen ystävä on hankkinut nuoruudessaan tasaisin väliajoin kissoja ja nyt niiden iät ovat alla olevan jakauman mukaisia. Kuinka vanhoja kissat keskimäärin ovat? Mikä on iän mediaani ja moodi?\n",
    "![image.png](attachment:image.png)"
   ]
  },
  {
   "cell_type": "code",
   "execution_count": null,
   "metadata": {},
   "outputs": [],
   "source": [
    "###Code here"
   ]
  },
  {
   "cell_type": "markdown",
   "metadata": {},
   "source": [
    "1.5 Jaottele alla olevan taulukon tilastomuuttujat diskreetteihin ja jatkuviin."
   ]
  },
  {
   "cell_type": "markdown",
   "metadata": {},
   "source": [
    "1.6 Jaottele alla olevan taulukon tilastomuuttujat kvantitatiivisiin ja kvalitatiivisiin."
   ]
  },
  {
   "attachments": {
    "image.png": {
     "image/png": "[encoded data removed]"
    }
   },
   "cell_type": "markdown",
   "metadata": {},
   "source": [
    "1.7 Millä mitta-asteikoilla alla olevan taulukon tilastomuuttujia voidaan mitata?\n",
    "![image.png](attachment:image.png)"
   ]
  }
 ],
 "metadata": {
  "kernelspec": {
   "display_name": "Python 3",
   "language": "python",
   "name": "python3"
  },
  "language_info": {
   "codemirror_mode": {
    "name": "ipython",
    "version": 3
   },
   "file_extension": ".py",
   "mimetype": "text/x-python",
   "name": "python",
   "nbconvert_exporter": "python",
   "pygments_lexer": "ipython3",
   "version": "3.10.11"
  },
  "orig_nbformat": 4,
  "vscode": {
   "interpreter": {
    "hash": "30faa4c92d4a2962595eb73e8f7dbea46bc21200901e2d9b0aa334e914f5481f"
   }
  }
 },
 "nbformat": 4,
 "nbformat_minor": 2
}
