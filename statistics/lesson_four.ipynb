{
 "cells": [
  {
   "cell_type": "code",
   "execution_count": 1,
   "metadata": {},
   "outputs": [],
   "source": [
    "import numpy\n",
    "import pandas\n",
    "import matplotlib.pyplot as plt"
   ]
  },
  {
   "cell_type": "markdown",
   "metadata": {},
   "source": [
    "4.1 Tavoitteena on esittää suomalaisten veriryhmien suhteellista jakautumista toisiinsa ja niiden kokonaismäärään. Alla olevassa taulukossa on veriryhmien jakauma. Piirrä tähän tilanteeseen mielestäsi sopiva kaavio valitsemallasi ohjelmistolla (esim. Excel).\n",
    "![Alt text](image.png)"
   ]
  },
  {
   "cell_type": "code",
   "execution_count": 2,
   "metadata": {},
   "outputs": [],
   "source": [
    "## Code here"
   ]
  },
  {
   "cell_type": "markdown",
   "metadata": {},
   "source": [
    "4.2 Tavoitteena on esittää lukiolaisten kevään 2016 ylioppilaskirjoitusten terveystiedon arvosanojen lukumäärät. Alla olevassa taulukossa on arvosanajakauma. Piirrä tähän tilanteeseen mielestäsi sopiva kaavio valitsemallasi ohjelmistolla.\n",
    "![Alt text](image-1.png)"
   ]
  },
  {
   "cell_type": "code",
   "execution_count": 3,
   "metadata": {},
   "outputs": [],
   "source": [
    "## Code here"
   ]
  },
  {
   "cell_type": "markdown",
   "metadata": {},
   "source": [
    "4.3 Tavoitteena on esittää tiettyjen kansalaisuuksien lukumäärä Suomessa. Alla olevassa taulukossa on näiden kansalaisuuksien jakauma. Piirrä tähän tilanteeseen mielestäsi sopiva kaavio valitsemallasi ohjelmistolla.\n",
    "![Alt text](image-2.png)"
   ]
  },
  {
   "cell_type": "code",
   "execution_count": 4,
   "metadata": {},
   "outputs": [],
   "source": [
    "## Code here"
   ]
  },
  {
   "cell_type": "markdown",
   "metadata": {},
   "source": [
    "4.4 Tavoitteena on vertailla päivittäisen sademäärän riippuvuutta kyseisen päivän lämpötilasta. Alla olevassa taulukossa on havaintopisteitä tiettyjen päivien sademääristä ja vastaavista lämpötiloista. Piirrä tähän tilanteeseen mielestäsi sopiva kaavio valitsemallasi ohjelmistolla.\n",
    "![Alt text](image-3.png)"
   ]
  },
  {
   "cell_type": "code",
   "execution_count": 5,
   "metadata": {},
   "outputs": [],
   "source": [
    "## Code here"
   ]
  },
  {
   "cell_type": "markdown",
   "metadata": {},
   "source": [
    "4.5 Tavoitteena on esittää dollarin kurssin muutosta vuosittain suhteessa euroon. Alla olevassa taulukossa on dollarin kurssien jakauma. Piirrä tähän tilanteeseen mielestäsi sopiva kaavio valitsemallasi ohjelmistolla.\n",
    "![Alt text](image-4.png)"
   ]
  },
  {
   "cell_type": "code",
   "execution_count": 6,
   "metadata": {},
   "outputs": [],
   "source": [
    "## Code here"
   ]
  },
  {
   "cell_type": "markdown",
   "metadata": {},
   "source": [
    "4.6 Alla olevassa taulukossa on 100 opiskelijan paino tasavälisesti luokiteltuna jakaumana. Piirrä tähän tilanteeseen mielestäsi sopiva kaavio valitsemallasi ohjelmistolla. Piirrä jakaumalle myös kertymäkuvaaja aluekaaviona, jossa näkyy summafrekvenssit.\n",
    "![Alt text](image-5.png)"
   ]
  },
  {
   "cell_type": "code",
   "execution_count": 7,
   "metadata": {},
   "outputs": [],
   "source": [
    "## Code here"
   ]
  }
 ],
 "metadata": {
  "kernelspec": {
   "display_name": "Python 3",
   "language": "python",
   "name": "python3"
  },
  "language_info": {
   "codemirror_mode": {
    "name": "ipython",
    "version": 3
   },
   "file_extension": ".py",
   "mimetype": "text/x-python",
   "name": "python",
   "nbconvert_exporter": "python",
   "pygments_lexer": "ipython3",
   "version": "3.10.11"
  },
  "orig_nbformat": 4
 },
 "nbformat": 4,
 "nbformat_minor": 2
}
