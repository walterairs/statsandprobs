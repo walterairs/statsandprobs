{
 "cells": [
  {
   "cell_type": "code",
   "execution_count": null,
   "metadata": {},
   "outputs": [],
   "source": [
    "import numpy\n",
    "import pandas\n",
    "import matplotlib.pyplot as plt"
   ]
  },
  {
   "attachments": {
    "image.png": {
     "image/png": "[encoded data removed]"
    }
   },
   "cell_type": "markdown",
   "metadata": {},
   "source": [
    "5.1 Ihmisen iän ja pituuden välillä on selkeä lineaarinen riippuvuus. Erään ihmisen pituuksia on taulukoitu alla olevaan taulukkoon iän mukaan. Kumpi on selittävä ja kumpi selitettävä tilastomuuttuja? Muodosta taulukosta pistekaavio ja piirrä kuvion päälle regressiosuora.\n",
    "![image.png](attachment:image.png)"
   ]
  },
  {
   "cell_type": "code",
   "execution_count": null,
   "metadata": {},
   "outputs": [],
   "source": [
    "## Code here"
   ]
  },
  {
   "cell_type": "markdown",
   "metadata": {},
   "source": [
    "5.2. Mikä on edellisen tehtävän regressiosuoran yhtälö? Mikä on sen kulmakerroin ja mikä on sen vakiotermi? Mistä nähdään, että kyseinen lineaarinen riippuvuus on positiivista? Kuinka monta senttiä tämä ihminen kasvoi vuodessa?"
   ]
  },
  {
   "cell_type": "code",
   "execution_count": null,
   "metadata": {},
   "outputs": [],
   "source": [
    "## Code here"
   ]
  },
  {
   "attachments": {
    "image.png": {
     "image/png": "[encoded data removed]"
    }
   },
   "cell_type": "markdown",
   "metadata": {},
   "source": [
    "5.3 Alla olevassa taulukossa on miesten 100 metrin maailmanennätykset niiden vuosiluvun mukaan. Muodosta taulukosta pistekaavio ja määritä sille regressiosuora. Kumpi valitaan selittäväksi ja kumpi selitettäväksi tilastomuuttujaksi?\n",
    "![image.png](attachment:image.png)"
   ]
  },
  {
   "cell_type": "code",
   "execution_count": null,
   "metadata": {},
   "outputs": [],
   "source": [
    "## Code here"
   ]
  },
  {
   "cell_type": "markdown",
   "metadata": {},
   "source": [
    "5.4. Mikä on edellisen tehtävän regressiosuoran yhtälö? Mikä on sen kulmakerroin ja mikä on sen vakiotermi? Onko kyseinen lineaarinen riippuvuus positiivista vai negatiivista? Kuinka monta sekuntia maailmanennätys on parantunut keskimäärin vuodessa? Onko jokin piste mielestäsi kaukana suorasta?"
   ]
  },
  {
   "cell_type": "code",
   "execution_count": null,
   "metadata": {},
   "outputs": [],
   "source": [
    "## Code here"
   ]
  },
  {
   "cell_type": "markdown",
   "metadata": {},
   "source": [
    "5.5 Jos oletamme tehtävän 5.1 lineaarisen mallin paikkansapitävyyden, kuinka pitkä ihminen olisi 30 vuotiaana, mikäli hän jatkaisi kasvuaan samaan tahtiin? Entä minkä ikäisenä hän oli 110 cm pitkä?"
   ]
  },
  {
   "cell_type": "code",
   "execution_count": null,
   "metadata": {},
   "outputs": [],
   "source": [
    "## Code here"
   ]
  },
  {
   "cell_type": "markdown",
   "metadata": {},
   "source": [
    "5.6 Jos oletamme tehtävän 5.3 lineaarisen mallin paikkansapitävyyden, mikä olisi 100 m maailmanennätys vuonna 2050, mikäli ennätys jatkaisi paranemistaan samaan tahtiin? Minä vuonna maailmanennätys oli 10,4? Oikeasti maailmanennätys oli 10,4 sekuntia vuonna 1921."
   ]
  },
  {
   "cell_type": "code",
   "execution_count": null,
   "metadata": {},
   "outputs": [],
   "source": [
    "## Code here"
   ]
  }
 ],
 "metadata": {
  "language_info": {
   "name": "python"
  },
  "orig_nbformat": 4
 },
 "nbformat": 4,
 "nbformat_minor": 2
}
