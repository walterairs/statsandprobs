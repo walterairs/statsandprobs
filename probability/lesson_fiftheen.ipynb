{
 "cells": [
  {
   "cell_type": "code",
   "execution_count": 31,
   "metadata": {},
   "outputs": [],
   "source": [
    "import numpy\n",
    "import pandas\n",
    "import matplotlib.pyplot as plt\n",
    "import scipy"
   ]
  },
  {
   "cell_type": "markdown",
   "metadata": {},
   "source": [
    "15.1 Koirien keski-ikä noudattaa normaalijakaumaa. Satunnaisotannalla tehdyn 160 koiran otoksen perusteella keski-ikä on 18,2 vuotta ja keskihajonta on 4,5 vuotta. Virhemarginaali oli 0,7 vuotta 95 % luottamustasolla. Mikä on otoksen keskiarvon luottamusväli? Mikä on otoksen keskiarvon keskivirhe?"
   ]
  },
  {
   "cell_type": "code",
   "execution_count": 44,
   "metadata": {},
   "outputs": [
    {
     "name": "stdout",
     "output_type": "stream",
     "text": [
      "Average error of mean:  0.35575623676894264\n",
      "Confidence interval:  (17.502730588657368, 18.89726941134263)\n"
     ]
    }
   ],
   "source": [
    "## Code here\n",
    "# X ~ N(0, 1)\n",
    "size_of_sample = 160\n",
    "avg_age = 18.2\n",
    "std_age = 4.5\n",
    "err_margin = 0.7\n",
    "trust_level = 0.95\n",
    "\n",
    "avg_error_of_mean = std_age / numpy.sqrt(size_of_sample)\n",
    "print(\"Average error of mean: \", avg_error_of_mean)\n",
    "\n",
    "confidence_interval = scipy.stats.norm.interval(trust_level, loc=avg_age, scale=avg_error_of_mean)\n",
    "print(\"Confidence interval: \", confidence_interval)"
   ]
  },
  {
   "cell_type": "markdown",
   "metadata": {},
   "source": [
    "15.2 Laske edellisen tehtävän perusteella todennäköisyys, että yksittäisen koiran ikä on yli 20 vuotta. Mikä on todennäköisyys, että 160 koiran otoksen keskiarvo on enintään 18 vuotta?"
   ]
  },
  {
   "cell_type": "code",
   "execution_count": 47,
   "metadata": {},
   "outputs": [
    {
     "name": "stdout",
     "output_type": "stream",
     "text": [
      "Probability of a single dog's age over 20:  0.3445782583896757\n",
      "Probability of the sample mean at most 18:  0.28699577521143077\n"
     ]
    }
   ],
   "source": [
    "# Probability that a single dog's age is over 20\n",
    "prob_of_over_20 = 1 - scipy.stats.norm.cdf(20, loc=avg_age, scale=std_age)\n",
    "print(\"Probability of a single dog's age over 20: \", prob_of_over_20)\n",
    "\n",
    "# Probability that the sample mean is at most 18\n",
    "prob_of_avg_max_18 = scipy.stats.norm.cdf(18, loc=avg_age, scale=std_age / (size_of_sample ** 0.5))\n",
    "print(\"Probability of the sample mean at most 18: \", prob_of_avg_max_18)"
   ]
  },
  {
   "cell_type": "markdown",
   "metadata": {},
   "source": [
    "15.3 Laske tehtävän 15.1 otoksen luottamusväli 95 % luottamustasolla. Huomaa, että saat saman tuloksen kuin tehtävässä kerrotulla virhemarginaalilla. Mikä on luottamusväli 99 % luottamustasolla?"
   ]
  },
  {
   "cell_type": "code",
   "execution_count": 48,
   "metadata": {},
   "outputs": [
    {
     "name": "stdout",
     "output_type": "stream",
     "text": [
      "Trust interval:  [17.502717775932872, 18.897282224067126]\n",
      "Trust interval 99:  [17.282148909136126, 19.117851090863873]\n"
     ]
    }
   ],
   "source": [
    "## Code here\n",
    "trust_interval = [18.2 - 1.96 * avg_error_of_mean, 18.2 + 1.96 * avg_error_of_mean]\n",
    "print(\"Trust interval: \", trust_interval)\n",
    "\n",
    "trust_interval_99 = [18.2 - 2.58 * avg_error_of_mean, 18.2 + 2.58 * avg_error_of_mean]\n",
    "print(\"Trust interval 99: \", trust_interval_99)"
   ]
  },
  {
   "cell_type": "markdown",
   "metadata": {},
   "source": [
    "15.4 Tilastokeskuksen mukaan koirien keski-ikä on 17,8 vuotta. Laske tämän väitetyn keskiarvon 𝑧-arvo ja 𝑝-arvo. Voidaanko tähän väitettyyn keskiarvoon luottaa 95 % tai 99 % luottamustasolla?"
   ]
  },
  {
   "cell_type": "code",
   "execution_count": 35,
   "metadata": {},
   "outputs": [
    {
     "name": "stdout",
     "output_type": "stream",
     "text": [
      "Z value:  -1.1243653902820865\n",
      "P value:  0.1304290241151596\n",
      "the avg can be trusted on 95:  True\n",
      "and on 99:  True\n"
     ]
    }
   ],
   "source": [
    "## Code here\n",
    "avg_age = 17.8\n",
    "\n",
    "z_value = (avg_age - 18.2) / avg_error_of_mean\n",
    "print(\"Z value: \", z_value)\n",
    "\n",
    "p_value = scipy.stats.norm.sf(abs(z_value))\n",
    "print(\"P value: \", p_value)\n",
    "\n",
    "print(\"the avg can be trusted on 95: \", p_value > 0.05)\n",
    "print(\"and on 99: \", p_value > 0.01)\n"
   ]
  },
  {
   "cell_type": "markdown",
   "metadata": {},
   "source": [
    "15.5 Lääkeaineen paketissa ilmoitetaan yhden pillerin painoksi 600 𝑚𝑔. Lääkevirasto päättää testata tämän väitteen paikkansa pitävyyttä ottamalla 150 pillerin otoksen ja punnitsemalla pillerit. Keskiarvoksi saatiin 602,3 𝑚𝑔 ja keskihajonnaksi 6,3 𝑚𝑔. Voidaanko lääkeaineen paketin ilmoitukseen luottaa 95 % luottamustasolla?"
   ]
  },
  {
   "cell_type": "code",
   "execution_count": 36,
   "metadata": {},
   "outputs": [
    {
     "name": "stdout",
     "output_type": "stream",
     "text": [
      "P value:  3.887444579061199e-06\n",
      "the avg can be trusted on 95:  False\n"
     ]
    }
   ],
   "source": [
    "## Code here\n",
    "true_avg = 600\n",
    "\n",
    "sample_size = 150\n",
    "sample_avg = 602.3\n",
    "sample_std = 6.3\n",
    "\n",
    "z_value = (sample_avg - true_avg) / (sample_std / numpy.sqrt(sample_size))\n",
    "p_value = scipy.stats.norm.sf(abs(z_value))\n",
    "\n",
    "print(\"P value: \", p_value)\n",
    "print(\"the avg can be trusted on 95: \", p_value > 0.05)"
   ]
  },
  {
   "cell_type": "markdown",
   "metadata": {},
   "source": [
    "15.6 Suomen järvistä kalastettujen ahvenien keskimääräiseksi painoksi on pitkällä aikavälillä muodostunut 570 𝑔. Tätä testataan ottamalla 60 ahvenen otos, jonka keskiarvoksi saadaan 563 𝑔 ja keskihajonnaksi 63,7 𝑔. Onko pitkän aikavälin keskiarvo luotettava 99 % luottamustasolla? Kuinka suuri otoskoon pitäisi olla, että se ei olisi luotettava tällä luottamustasolla (tämän voi selvittää kokeilemalla)? Otoksen keskiarvon ja keskihajonnan oletetaan pysyvän samana."
   ]
  },
  {
   "cell_type": "code",
   "execution_count": 43,
   "metadata": {},
   "outputs": [
    {
     "name": "stdout",
     "output_type": "stream",
     "text": [
      "P value:  0.1973277065164603\n",
      "the avg can be trusted on 95:  True\n"
     ]
    },
    {
     "data": {
      "image/png": "[encoded data removed]",
      "text/plain": [
       "<Figure size 640x480 with 1 Axes>"
      ]
     },
     "metadata": {},
     "output_type": "display_data"
    },
    {
     "name": "stdout",
     "output_type": "stream",
     "text": [
      "Sample size:  230\n"
     ]
    }
   ],
   "source": [
    "## Code here\n",
    "true_avg = 570\n",
    "\n",
    "sample_size = 60\n",
    "sample_avg = 563\n",
    "sample_std = 63.7\n",
    "\n",
    "z_value = (sample_avg - true_avg) / (sample_std / numpy.sqrt(sample_size))\n",
    "p_value = scipy.stats.norm.sf(abs(z_value))\n",
    "\n",
    "print(\"P value: \", p_value)\n",
    "print(\"the avg can be trusted on 95: \", p_value > 0.05)\n",
    "\n",
    "# lets plot the p value for different sample sizes\n",
    "sample_sizes = numpy.arange(10, 1000, 10)\n",
    "p_values = []\n",
    "for sample_size in sample_sizes:\n",
    "    sample_avg = 563\n",
    "    sample_std = 63.7\n",
    "\n",
    "    z_value = (sample_avg - true_avg) / (sample_std / numpy.sqrt(sample_size))\n",
    "    p_value = scipy.stats.norm.sf(abs(z_value))\n",
    "    p_values.append(p_value)\n",
    "\n",
    "# lets draw a line from the point where the p value is 0.05¨\n",
    "plt.plot(sample_sizes, p_values)\n",
    "plt.xlabel(\"Sample size\")\n",
    "plt.ylabel(\"P value\")\n",
    "plt.axhline(y=0.05, color='r', linestyle='-')\n",
    "plt.axvline(x=230, color='r', linestyle='-')\n",
    "plt.show()"
   ]
  },
  {
   "cell_type": "markdown",
   "metadata": {},
   "source": [
    "We can come to a conclusion that somewhere after samplesize of 230 the true avg is not anymore trustworthy with 95%"
   ]
  }
 ],
 "metadata": {
  "kernelspec": {
   "display_name": ".venv",
   "language": "python",
   "name": "python3"
  },
  "language_info": {
   "codemirror_mode": {
    "name": "ipython",
    "version": 3
   },
   "file_extension": ".py",
   "mimetype": "text/x-python",
   "name": "python",
   "nbconvert_exporter": "python",
   "pygments_lexer": "ipython3",
   "version": "3.11.6"
  },
  "orig_nbformat": 4
 },
 "nbformat": 4,
 "nbformat_minor": 2
}
