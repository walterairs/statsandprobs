{
 "cells": [
  {
   "cell_type": "code",
   "execution_count": 1,
   "metadata": {},
   "outputs": [],
   "source": [
    "import numpy\n",
    "import pandas\n",
    "import matplotlib.pyplot as plt\n",
    "import scipy"
   ]
  },
  {
   "cell_type": "markdown",
   "metadata": {},
   "source": [
    "15.1 Koirien keski-ikä noudattaa normaalijakaumaa. Satunnaisotannalla tehdyn 160 koiran otoksen perusteella keski-ikä on 18,2 vuotta ja keskihajonta on 4,5 vuotta. Virhemarginaali oli 0,7 vuotta 95 % luottamustasolla. Mikä on otoksen keskiarvon luottamusväli? Mikä on otoksen keskiarvon keskivirhe?"
   ]
  },
  {
   "cell_type": "code",
   "execution_count": null,
   "metadata": {},
   "outputs": [],
   "source": [
    "## Code here\n",
    "# X ~ N(0, 1)\n",
    "\n",
    "avg_error_of_mean = 4.5 / numpy.sqrt(160)"
   ]
  },
  {
   "cell_type": "markdown",
   "metadata": {},
   "source": [
    "15.2 Laske edellisen tehtävän perusteella todennäköisyys, että yksittäisen koiran ikä on yli 20 vuotta. Mikä on todennäköisyys, että 160 koiran otoksen keskiarvo on enintään 18 vuotta?"
   ]
  },
  {
   "cell_type": "code",
   "execution_count": null,
   "metadata": {},
   "outputs": [],
   "source": [
    "## Code here"
   ]
  },
  {
   "cell_type": "markdown",
   "metadata": {},
   "source": [
    "15.3 Laske tehtävän 15.1 otoksen luottamusväli 95 % luottamustasolla. Huomaa, että saat saman tuloksen kuin tehtävässä kerrotulla virhemarginaalilla. Mikä on luottamusväli 99 % luottamustasolla?"
   ]
  },
  {
   "cell_type": "code",
   "execution_count": null,
   "metadata": {},
   "outputs": [],
   "source": [
    "## Code here"
   ]
  },
  {
   "cell_type": "markdown",
   "metadata": {},
   "source": [
    "15.4 Tilastokeskuksen mukaan koirien keski-ikä on 17,8 vuotta. Laske tämän väitetyn keskiarvon 𝑧-arvo ja 𝑝-arvo. Voidaanko tähän väitettyyn keskiarvoon luottaa 95 % tai 99 % luottamustasolla?"
   ]
  },
  {
   "cell_type": "code",
   "execution_count": null,
   "metadata": {},
   "outputs": [],
   "source": [
    "## Code here"
   ]
  },
  {
   "cell_type": "markdown",
   "metadata": {},
   "source": [
    "15.5 Lääkeaineen paketissa ilmoitetaan yhden pillerin painoksi 600 𝑚𝑔. Lääkevirasto päättää testata tämän väitteen paikkansa pitävyyttä ottamalla 150 pillerin otoksen ja punnitsemalla pillerit. Keskiarvoksi saatiin 602,3 𝑚𝑔 ja keskihajonnaksi 6,3 𝑚𝑔. Voidaanko lääkeaineen paketin ilmoitukseen luottaa 95 % luottamustasolla?"
   ]
  },
  {
   "cell_type": "code",
   "execution_count": null,
   "metadata": {},
   "outputs": [],
   "source": [
    "## Code here"
   ]
  },
  {
   "cell_type": "markdown",
   "metadata": {},
   "source": [
    "15.6 Suomen järvistä kalastettujen ahvenien keskimääräiseksi painoksi on pitkällä aikavälillä muodostunut 570 𝑔. Tätä testataan ottamalla 60 ahvenen otos, jonka keskiarvoksi saadaan 563 𝑔 ja keskihajonnaksi 63,7 𝑔. Onko pitkän aikavälin keskiarvo luotettava 99 % luottamustasolla? Kuinka suuri otoskoon pitäisi olla, että se ei olisi luotettava tällä luottamustasolla (tämän voi selvittää kokeilemalla)? Otoksen keskiarvon ja keskihajonnan oletetaan pysyvän samana."
   ]
  },
  {
   "cell_type": "code",
   "execution_count": null,
   "metadata": {},
   "outputs": [],
   "source": [
    "## Code here"
   ]
  }
 ],
 "metadata": {
  "kernelspec": {
   "display_name": ".venv",
   "language": "python",
   "name": "python3"
  },
  "language_info": {
   "codemirror_mode": {
    "name": "ipython",
    "version": 3
   },
   "file_extension": ".py",
   "mimetype": "text/x-python",
   "name": "python",
   "nbconvert_exporter": "python",
   "pygments_lexer": "ipython3",
   "version": "3.11.6"
  },
  "orig_nbformat": 4
 },
 "nbformat": 4,
 "nbformat_minor": 2
}
