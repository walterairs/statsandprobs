{
 "cells": [
  {
   "cell_type": "code",
   "execution_count": null,
   "metadata": {},
   "outputs": [],
   "source": [
    "import numpy\n",
    "import pandas\n",
    "import matplotlib.pyplot as plt\n",
    "import scipy"
   ]
  },
  {
   "cell_type": "markdown",
   "metadata": {},
   "source": [
    "14.1 Matematiikan kokeesta saatava pistemäärä 𝑋 on normaalisti jakautunut siten, että keskiarvo on 57,3 pistettä ja keskihajonta on 14,7 pistettä. Mitkä ovat pistemäärien 32 ja 70 normitetut arvot? Laske näiden normitettujen arvojen avulla standardinormaalijakauman kertymäfunktion arvoja käyttämällä todennäköisyydet 𝑃(𝑋<32) ja 𝑃(𝑋>70)."
   ]
  },
  {
   "cell_type": "code",
   "execution_count": null,
   "metadata": {},
   "outputs": [],
   "source": [
    "## Code here"
   ]
  },
  {
   "cell_type": "markdown",
   "metadata": {},
   "source": [
    "14.2 Olkoon 𝑋~𝑁(−50,4). Laske 𝑃(−57<𝑋<−45) sekä suoraan satunnaismuuttujan 𝑋 tiheys/kertymäfunktiosta että normittamalla se ensin standardinormaalijakaumalle."
   ]
  },
  {
   "cell_type": "code",
   "execution_count": null,
   "metadata": {},
   "outputs": [],
   "source": [
    "## Code here"
   ]
  },
  {
   "cell_type": "markdown",
   "metadata": {},
   "source": [
    "14.3 Olkoon 𝑋~𝑁(150,17) ja 𝑃(𝑋<𝑎)=0,7. Määritä luvun 𝑎 arvo normittamalla ja käyttäen hyväksi standardinormaalijakauman kertymäfunktion arvoa."
   ]
  },
  {
   "cell_type": "code",
   "execution_count": null,
   "metadata": {},
   "outputs": [],
   "source": [
    "## Code here"
   ]
  },
  {
   "cell_type": "markdown",
   "metadata": {},
   "source": [
    "14.4 Ihmisten pituus on normaalisti jakautunut siten, että keskiarvo on 173 𝑐𝑚 ja keskihajonta on 13 𝑐𝑚. Mikä on se pituus, jota lyhyempiä on 90 % kaikista ihmisistä? Millä välillä [173−𝑎,173+𝑎] on puolet kaikista ihmisistä, eli mikä on luvun 𝑎 arvo?"
   ]
  },
  {
   "cell_type": "code",
   "execution_count": null,
   "metadata": {},
   "outputs": [],
   "source": [
    "## Code here"
   ]
  },
  {
   "cell_type": "markdown",
   "metadata": {},
   "source": [
    "14.5 Vuorokauden keskilämpötila kesällä noudattaa normaalijakaumaa keskiarvolla 18,4 °𝐶. Lisäksi tiedämme, että 𝑃(𝑋<15)=23 %. Määritä vuorokauden keskilämpötilan keskihajonta."
   ]
  },
  {
   "cell_type": "code",
   "execution_count": null,
   "metadata": {},
   "outputs": [],
   "source": [
    "## Code here"
   ]
  },
  {
   "cell_type": "markdown",
   "metadata": {},
   "source": [
    "14.6 Ihmisten yöunien pituus noudattaa normaalijakaumaa keskihajonnalla 1,2 ℎ. Lisäksi tiedämme, että 20 % ihmisistä nukkuu yli 9 tuntia. Määritä yöunien pituuden keskiarvo."
   ]
  },
  {
   "cell_type": "code",
   "execution_count": null,
   "metadata": {},
   "outputs": [],
   "source": [
    "## Code here"
   ]
  }
 ],
 "metadata": {
  "language_info": {
   "name": "python"
  },
  "orig_nbformat": 4
 },
 "nbformat": 4,
 "nbformat_minor": 2
}
