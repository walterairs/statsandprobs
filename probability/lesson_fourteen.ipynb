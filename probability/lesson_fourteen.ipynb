{
 "cells": [
  {
   "cell_type": "code",
   "execution_count": 1,
   "metadata": {},
   "outputs": [],
   "source": [
    "import numpy\n",
    "import matplotlib.pyplot as plt\n",
    "import scipy"
   ]
  },
  {
   "cell_type": "markdown",
   "metadata": {},
   "source": [
    "14.1 Matematiikan kokeesta saatava pistemäärä 𝑋 on normaalisti jakautunut siten, että keskiarvo on 57,3 pistettä ja keskihajonta on 14,7 pistettä. Mitkä ovat pistemäärien 32 ja 70 normitetut arvot? Laske näiden normitettujen arvojen avulla standardinormaalijakauman kertymäfunktion arvoja käyttämällä todennäköisyydet 𝑃(𝑋<32) ja 𝑃(𝑋>70)."
   ]
  },
  {
   "cell_type": "code",
   "execution_count": 2,
   "metadata": {},
   "outputs": [
    {
     "name": "stdout",
     "output_type": "stream",
     "text": [
      "normed_32:  -1.7210884353741496\n",
      "normed_70:  0.8639455782312927\n"
     ]
    }
   ],
   "source": [
    "## Code here\n",
    "# X ~ N(57.3, 14.7)\n",
    "# lets normalize the data\n",
    "\n",
    "normed_32 = (32 - 57.3) / 14.7\n",
    "normed_70 = (70 - 57.3) / 14.7\n",
    "\n",
    "print(\"normed_32: \", normed_32)\n",
    "print(\"normed_70: \", normed_70)\n",
    "\n",
    "# P(X < 32) = P(Z < -1.73) = 0.0418\n",
    "# P(X > 70) = P(Z > 0.89) = 0.1867"
   ]
  },
  {
   "cell_type": "markdown",
   "metadata": {},
   "source": [
    "14.2 Olkoon 𝑋~𝑁(−50,4). Laske 𝑃(−57<𝑋<−45) sekä suoraan satunnaismuuttujan 𝑋 tiheys/kertymäfunktiosta että normittamalla se ensin standardinormaalijakaumalle."
   ]
  },
  {
   "cell_type": "code",
   "execution_count": 11,
   "metadata": {},
   "outputs": [
    {
     "data": {
      "image/png": "[encoded data removed]",
      "text/plain": [
       "<Figure size 640x480 with 1 Axes>"
      ]
     },
     "metadata": {},
     "output_type": "display_data"
    },
    {
     "name": "stdout",
     "output_type": "stream",
     "text": [
      "prob_1:  0.8542910694693278\n"
     ]
    }
   ],
   "source": [
    "## Code here\n",
    "# X ~ N(-59,4)\n",
    "\n",
    "# lets plot the distribution\n",
    "x = numpy.linspace(-100, -10, 1000)\n",
    "y = scipy.stats.norm.pdf(x, -50, 4)\n",
    "plt.plot(x, y)\n",
    "plt.show()\n",
    "\n",
    "def gaus_func(x):\n",
    "    return 1/(numpy.sqrt(2*numpy.pi)*4)*numpy.exp(-(x+50)**2/(2*4**2))\n",
    "\n",
    "# lets calculate the probability of P(-57 < X < -45)\n",
    "prob_1 = scipy.integrate.quad(gaus_func, -57, -45)[0]\n",
    "print(\"prob_1: \", prob_1)"
   ]
  },
  {
   "cell_type": "code",
   "execution_count": 15,
   "metadata": {},
   "outputs": [
    {
     "name": "stdout",
     "output_type": "stream",
     "text": [
      "normed_57:  1.75\n",
      "normed_45:  -1.25\n",
      "prob_2:  0.8542910694693275\n"
     ]
    }
   ],
   "source": [
    "# lets norm those values\n",
    "normed_57 = (57 - 50) / 4 # would love to know why negative values don't work...\n",
    "normed_45 = (45 - 50) / 4\n",
    "\n",
    "print(\"normed_57: \", normed_57)\n",
    "print(\"normed_45: \", normed_45)\n",
    "\n",
    "# lets calculate with the normed values\n",
    "# cdf basically fetches the corresponding value from the table\n",
    "prob_2 = scipy.stats.norm.cdf(normed_57) - scipy.stats.norm.cdf(normed_45)\n",
    "print(\"prob_2: \", prob_2)"
   ]
  },
  {
   "cell_type": "markdown",
   "metadata": {},
   "source": [
    "14.3 Olkoon 𝑋~𝑁(150,17) ja 𝑃(𝑋<𝑎)=0,7. Määritä luvun 𝑎 arvo normittamalla ja käyttäen hyväksi standardinormaalijakauman kertymäfunktion arvoa."
   ]
  },
  {
   "cell_type": "code",
   "execution_count": 16,
   "metadata": {},
   "outputs": [
    {
     "name": "stdout",
     "output_type": "stream",
     "text": [
      "normed_value:  161.9\n",
      "true_value:  0.7580363477769271\n"
     ]
    }
   ],
   "source": [
    "## Code here\n",
    "# X ~ N(150,17)\n",
    "# P(X<a) = 0.7\n",
    "\n",
    "normed_value = 0.7 * 17 + 150\n",
    "print(\"normed_value: \", normed_value)\n",
    "\n",
    "true_value = scipy.stats.norm.cdf(normed_value, 150, 17)\n",
    "print(\"true_value: \", true_value)\n"
   ]
  },
  {
   "cell_type": "markdown",
   "metadata": {},
   "source": [
    "14.4 Ihmisten pituus on normaalisti jakautunut siten, että keskiarvo on 173 𝑐𝑚 ja keskihajonta on 13 𝑐𝑚. Mikä on se pituus, jota lyhyempiä on 90 % kaikista ihmisistä? Millä välillä [173−𝑎,173+𝑎] on puolet kaikista ihmisistä, eli mikä on luvun 𝑎 arvo?"
   ]
  },
  {
   "cell_type": "code",
   "execution_count": 24,
   "metadata": {},
   "outputs": [
    {
     "name": "stdout",
     "output_type": "stream",
     "text": [
      "people taller than 90%:  189.6601703520798\n",
      "a:  8.76836675254907\n",
      "gap:  [164.23163324745093, 181.76836675254907]\n"
     ]
    }
   ],
   "source": [
    "## Code here\n",
    "# X ~ N(173, 13)\n",
    "# P(X > per) = 0.9\n",
    "\n",
    "normed_value = scipy.stats.norm.ppf(0.9, 173, 13)\n",
    "print(\"people taller than 90%: \", normed_value)\n",
    "\n",
    "# lets find the a from P(173-a < X < 173+a) = 0.5\n",
    "a = scipy.stats.norm.ppf(0.75, 173, 13) - 173 # the 0.75 is 0.5 + 0.25 (half of the 0.5)\n",
    "print(\"a: \", a)\n",
    "\n",
    "gap = [173-a, 173+a]\n",
    "print(\"gap: \", gap)"
   ]
  },
  {
   "cell_type": "markdown",
   "metadata": {},
   "source": [
    "14.5 Vuorokauden keskilämpötila kesällä noudattaa normaalijakaumaa keskiarvolla 18,4 °𝐶. Lisäksi tiedämme, että 𝑃(𝑋<15)=23 %. Määritä vuorokauden keskilämpötilan keskihajonta."
   ]
  },
  {
   "cell_type": "code",
   "execution_count": 26,
   "metadata": {},
   "outputs": [
    {
     "name": "stdout",
     "output_type": "stream",
     "text": [
      "a:  4.60176558071467\n"
     ]
    }
   ],
   "source": [
    "## Code here\n",
    "# X ~ N(18.4,a)\n",
    "# P(X < 15) = 0.23\n",
    "# Z < (15 - 18.4) / a = 0.23\n",
    "a = (15 - 18.4) / scipy.stats.norm.ppf(0.23)\n",
    "print(\"a: \", a)\n"
   ]
  },
  {
   "cell_type": "markdown",
   "metadata": {},
   "source": [
    "14.6 Ihmisten yöunien pituus noudattaa normaalijakaumaa keskihajonnalla 1,2 ℎ. Lisäksi tiedämme, että 20 % ihmisistä nukkuu yli 9 tuntia. Määritä yöunien pituuden keskiarvo."
   ]
  },
  {
   "cell_type": "code",
   "execution_count": 28,
   "metadata": {},
   "outputs": [
    {
     "name": "stdout",
     "output_type": "stream",
     "text": [
      "a:  7.990054519712503\n"
     ]
    }
   ],
   "source": [
    "## Code here\n",
    "# X ~ N(a, 1.2)\n",
    "# P(X > 9) = 0.2\n",
    "# Z > (9 - a) / 1.2 = 0.2\n",
    "a = 9 - 1.2 * scipy.stats.norm.ppf(0.8)\n",
    "print(\"a: \", a)\n"
   ]
  }
 ],
 "metadata": {
  "kernelspec": {
   "display_name": ".venv",
   "language": "python",
   "name": "python3"
  },
  "language_info": {
   "codemirror_mode": {
    "name": "ipython",
    "version": 3
   },
   "file_extension": ".py",
   "mimetype": "text/x-python",
   "name": "python",
   "nbconvert_exporter": "python",
   "pygments_lexer": "ipython3",
   "version": "3.11.6"
  },
  "orig_nbformat": 4
 },
 "nbformat": 4,
 "nbformat_minor": 2
}
