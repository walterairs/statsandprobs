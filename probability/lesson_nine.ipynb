{
 "cells": [
  {
   "cell_type": "code",
   "execution_count": null,
   "metadata": {},
   "outputs": [],
   "source": [
    "import scipy\n",
    "import numpy\n",
    "import pandas\n",
    "import matplotlib.pyplot as plt"
   ]
  },
  {
   "cell_type": "markdown",
   "metadata": {},
   "source": [
    "9.1 Korttipakasta nostetaan satunnaisesti yksi kortti, millä todennäköisyydellä sen numero on alkuluku? Millä todennäköisyydellä se ei ole alkuluku? (Ässä=14, Kuningas=13, Rouva=12, Jätkä=11)"
   ]
  },
  {
   "cell_type": "code",
   "execution_count": null,
   "metadata": {},
   "outputs": [],
   "source": [
    "## Code here"
   ]
  },
  {
   "cell_type": "markdown",
   "metadata": {},
   "source": [
    "9.2 Korttipakasta jaetaan viiden kortin pokerikäsi, millä todennäköisyydellä kaikki ovat ristejä? Huom., tässä voi käyttää kombinaatioita, joita laskettiin binomikertoimella (𝑛𝑘), tai permutaatioita 𝑛!/(𝑛−𝑘)!."
   ]
  },
  {
   "cell_type": "code",
   "execution_count": null,
   "metadata": {},
   "outputs": [],
   "source": [
    "## Code here"
   ]
  },
  {
   "cell_type": "markdown",
   "metadata": {},
   "source": [
    "9.3 Opiskelija myöhästyy tunnilta todennäköisyydellä 0,15 ja tästä riippumatta unohtaa kirjansa kotiin todennäköisyydellä 0,34. Millä todennäköisyydellä hän tekee kummatkin? Millä todennäköisyydellä hän ei tee kumpaakaan? Millä todennäköisyydellä hän tekee toisen tai kummatkin? Millä todennäköisyydellä hän tekee toisen tai ei kumpaakaan?"
   ]
  },
  {
   "cell_type": "code",
   "execution_count": null,
   "metadata": {},
   "outputs": [],
   "source": [
    "## Code here"
   ]
  },
  {
   "cell_type": "markdown",
   "metadata": {},
   "source": [
    "9.4 Pussissa on 15 vihreää kuulaa ja 8 punaista kuulaa. Pussista nostetaan satunnaisesti kolme kuulaa palauttamatta niitä enää takaisin. Millä todennäköisyydellä kaikki kolme kuulaa ovat vihreitä?"
   ]
  },
  {
   "cell_type": "code",
   "execution_count": null,
   "metadata": {},
   "outputs": [],
   "source": [
    "## Code here"
   ]
  },
  {
   "cell_type": "markdown",
   "metadata": {},
   "source": [
    "9.5 Korttipakasta jaetaan viiden kortin pokerikäsi, millä todennäköisyydellä kaikki ovat ristejä tai kaikki ovat herttoja? Huom., tapaukset ovat erillisiä."
   ]
  },
  {
   "cell_type": "code",
   "execution_count": null,
   "metadata": {},
   "outputs": [],
   "source": [
    "## Code here"
   ]
  },
  {
   "cell_type": "markdown",
   "metadata": {},
   "source": [
    "9.6 Sähköt menevät poikki vuoden aikana ainakin kerran todennäköisyydellä 0,15 ja vedet todennäköisyydellä 0,07 toisistaan riippumatta. Millä todennäköisyydellä vuoden aikana menee sähköt tai vedet poikki?"
   ]
  },
  {
   "cell_type": "code",
   "execution_count": null,
   "metadata": {},
   "outputs": [],
   "source": [
    "## Code here"
   ]
  }
 ],
 "metadata": {
  "language_info": {
   "name": "python"
  },
  "orig_nbformat": 4
 },
 "nbformat": 4,
 "nbformat_minor": 2
}
