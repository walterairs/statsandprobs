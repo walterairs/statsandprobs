{
 "cells": [
  {
   "cell_type": "code",
   "execution_count": null,
   "metadata": {},
   "outputs": [],
   "source": []
  },
  {
   "cell_type": "markdown",
   "metadata": {},
   "source": [
    "9.1 Korttipakasta nostetaan satunnaisesti yksi kortti, millä todennäköisyydellä sen numero on alkuluku? Millä todennäköisyydellä se ei ole alkuluku? (Ässä=14, Kuningas=13, Rouva=12, Jätkä=11)"
   ]
  },
  {
   "cell_type": "code",
   "execution_count": 10,
   "metadata": {},
   "outputs": [
    {
     "name": "stdout",
     "output_type": "stream",
     "text": [
      "53.84615384615385 %\n"
     ]
    }
   ],
   "source": [
    "## Code here\n",
    "card_deck = 52\n",
    "non_prime = 14, 12, 10, 9, 8, 6, 4\n",
    "prime = 13, 11, 7, 5, 3, 2\n",
    "non_prime_prob = len(non_prime) * 4 / card_deck\n",
    "\n",
    "print(non_prime_prob * 100, \"%\")"
   ]
  },
  {
   "cell_type": "markdown",
   "metadata": {},
   "source": [
    "9.2 Korttipakasta jaetaan viiden kortin pokerikäsi, millä todennäköisyydellä kaikki ovat ristejä? Huom., tässä voi käyttää kombinaatioita, joita laskettiin binomikertoimella (𝑛𝑘), tai permutaatioita 𝑛!/(𝑛−𝑘)!."
   ]
  },
  {
   "cell_type": "code",
   "execution_count": 11,
   "metadata": {},
   "outputs": [
    {
     "name": "stdout",
     "output_type": "stream",
     "text": [
      "0.05 %\n"
     ]
    }
   ],
   "source": [
    "## Code here\n",
    "cards_persuit = 52\n",
    "\n",
    "propability = (13/cards_persuit) * (12/(cards_persuit-1)) * (11/(cards_persuit-2)) * (10/(cards_persuit-3)) * (9/(cards_persuit-4))\n",
    "\n",
    "#lets print the propability in two decimal precision\n",
    "propability = round(propability * 100, 2)\n",
    "print(propability , \"%\")\n",
    "\n"
   ]
  },
  {
   "cell_type": "markdown",
   "metadata": {},
   "source": [
    "9.3 Opiskelija myöhästyy tunnilta todennäköisyydellä 0,15 ja tästä riippumatta unohtaa kirjansa kotiin todennäköisyydellä 0,34. Millä todennäköisyydellä hän tekee kummatkin? Millä todennäköisyydellä hän ei tee kumpaakaan? Millä todennäköisyydellä hän tekee toisen tai kummatkin? Millä todennäköisyydellä hän tekee toisen tai ei kumpaakaan?"
   ]
  },
  {
   "cell_type": "code",
   "execution_count": 12,
   "metadata": {},
   "outputs": [
    {
     "name": "stdout",
     "output_type": "stream",
     "text": [
      "Probability to be late and forget books:  5.1 %\n",
      "Probability to neither be late nor forget books:  56.1 %\n",
      "Probability to be late or forget books or both:  43.9 %\n",
      "Probability to be late or forget books or neither:  56.1 %\n"
     ]
    }
   ],
   "source": [
    "## Code here\n",
    "prob_to_be_late = 0.15\n",
    "prob_to_forget_books = 0.34\n",
    "\n",
    "prob_to_be_late_and_forget_books = prob_to_be_late * prob_to_forget_books\n",
    "prob_to_neither = (1 - prob_to_be_late) * (1 - prob_to_forget_books)\n",
    "prob_to_other_or_both = prob_to_be_late + prob_to_forget_books - prob_to_be_late_and_forget_books\n",
    "prob_to_other_or_neither = 1 - (prob_to_be_late + prob_to_forget_books - prob_to_be_late_and_forget_books)\n",
    "\n",
    "## Lets show the data in percentages with 2 decimal precision\n",
    "prob_to_be_late_and_forget_books = round(prob_to_be_late_and_forget_books * 100, 2)\n",
    "prob_to_neither = round(prob_to_neither * 100, 2)\n",
    "prob_to_other_or_both = round(prob_to_other_or_both * 100, 2)\n",
    "prob_to_other_or_neither = round(prob_to_other_or_neither * 100, 2)\n",
    "\n",
    "print(\"Probability to be late and forget books: \", prob_to_be_late_and_forget_books, \"%\")\n",
    "print(\"Probability to neither be late nor forget books: \", prob_to_neither, \"%\")\n",
    "print(\"Probability to be late or forget books or both: \", prob_to_other_or_both, \"%\")\n",
    "print(\"Probability to be late or forget books or neither: \", prob_to_other_or_neither, \"%\")"
   ]
  },
  {
   "cell_type": "markdown",
   "metadata": {},
   "source": [
    "9.4 Pussissa on 15 vihreää kuulaa ja 8 punaista kuulaa. Pussista nostetaan satunnaisesti kolme kuulaa palauttamatta niitä enää takaisin. Millä todennäköisyydellä kaikki kolme kuulaa ovat vihreitä?"
   ]
  },
  {
   "cell_type": "code",
   "execution_count": 13,
   "metadata": {},
   "outputs": [
    {
     "name": "stdout",
     "output_type": "stream",
     "text": [
      "Probability to get three green marbles:  25.69 %\n"
     ]
    }
   ],
   "source": [
    "## Code here\n",
    "green_marbles = 15\n",
    "red_marbles = 8\n",
    "total_marbles = green_marbles + red_marbles\n",
    "\n",
    "first_marble_green = green_marbles / total_marbles\n",
    "second_marble_green = (green_marbles - 1) / (total_marbles - 1)\n",
    "third_marble_green = (green_marbles - 2) / (total_marbles - 2)\n",
    "\n",
    "prob_to_get_three_green_marbles = first_marble_green * second_marble_green * third_marble_green\n",
    "\n",
    "prob_to_get_three_green_marbles = round(prob_to_get_three_green_marbles * 100, 2)\n",
    "print(\"Probability to get three green marbles: \", prob_to_get_three_green_marbles, \"%\")\n",
    "\n"
   ]
  },
  {
   "cell_type": "markdown",
   "metadata": {},
   "source": [
    "9.5 Korttipakasta jaetaan viiden kortin pokerikäsi, millä todennäköisyydellä kaikki ovat ristejä tai kaikki ovat herttoja? Huom., tapaukset ovat erillisiä."
   ]
  },
  {
   "cell_type": "code",
   "execution_count": 14,
   "metadata": {},
   "outputs": [
    {
     "name": "stdout",
     "output_type": "stream",
     "text": [
      "Probability to get full clubs or hearts:  0.1 %\n"
     ]
    }
   ],
   "source": [
    "## Code here\n",
    "cards_deck = 52\n",
    "cards_drawn = 5\n",
    "cards_persuit = 13\n",
    "\n",
    "\n",
    "prob_to_get_full_clubs = (cards_persuit/cards_deck) * ((cards_persuit-1)/(cards_deck-1)) * ((cards_persuit-2)/(cards_deck-2)) * ((cards_persuit-3)/(cards_deck-3)) * ((cards_persuit-4)/(cards_deck-4))\n",
    "prob_to_get_full_hearts = (cards_persuit/cards_deck) * ((cards_persuit-1)/(cards_deck-1)) * ((cards_persuit-2)/(cards_deck-2)) * ((cards_persuit-3)/(cards_deck-3)) * ((cards_persuit-4)/(cards_deck-4))\n",
    "\n",
    "prob_to_get_full_clubs_or_hearts = prob_to_get_full_clubs + prob_to_get_full_hearts\n",
    "prob_to_get_full_clubs_or_hearts = round(prob_to_get_full_clubs_or_hearts * 100, 2)\n",
    "\n",
    "print(\"Probability to get full clubs or hearts: \", prob_to_get_full_clubs_or_hearts, \"%\")\n",
    "\n"
   ]
  },
  {
   "cell_type": "markdown",
   "metadata": {},
   "source": [
    "9.6 Sähköt menevät poikki vuoden aikana ainakin kerran todennäköisyydellä 0,15 ja vedet todennäköisyydellä 0,07 toisistaan riippumatta. Millä todennäköisyydellä vuoden aikana menee sähköt tai vedet poikki?"
   ]
  },
  {
   "cell_type": "code",
   "execution_count": 15,
   "metadata": {},
   "outputs": [
    {
     "name": "stdout",
     "output_type": "stream",
     "text": [
      "Probability to blackout atleast once or water damage atleast once:  22.0 %\n"
     ]
    }
   ],
   "source": [
    "## Code here\n",
    "prob_to_blackout_atleast_once = 0.15\n",
    "prob_to_water_damage_atleast_once = 0.07\n",
    "\n",
    "prob_to_blackout_atleast_once_or_water_damage_atleast_once = prob_to_blackout_atleast_once + prob_to_water_damage_atleast_once\n",
    "\n",
    "prob_to_blackout_atleast_once_or_water_damage_atleast_once = round(prob_to_blackout_atleast_once_or_water_damage_atleast_once * 100, 2)\n",
    "print(\"Probability to blackout atleast once or water damage atleast once: \", prob_to_blackout_atleast_once_or_water_damage_atleast_once, \"%\")\n"
   ]
  },
  {
   "cell_type": "markdown",
   "metadata": {},
   "source": []
  }
 ],
 "metadata": {
  "kernelspec": {
   "display_name": ".venv",
   "language": "python",
   "name": "python3"
  },
  "language_info": {
   "codemirror_mode": {
    "name": "ipython",
    "version": 3
   },
   "file_extension": ".py",
   "mimetype": "text/x-python",
   "name": "python",
   "nbconvert_exporter": "python",
   "pygments_lexer": "ipython3",
   "version": "3.11.5"
  },
  "orig_nbformat": 4
 },
 "nbformat": 4,
 "nbformat_minor": 2
}
