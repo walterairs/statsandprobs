{
 "cells": [
  {
   "cell_type": "code",
   "execution_count": null,
   "metadata": {},
   "outputs": [],
   "source": [
    "import numpy\n",
    "import pandas\n",
    "import matplotlib.pyplot as plt\n",
    "import scipy"
   ]
  },
  {
   "cell_type": "markdown",
   "metadata": {},
   "source": [
    "11.1 Heitetään kolikkoa 5 kertaa, jokaisella kerralla sekä kruunan että klaavan todennäköisyys on 0,5. Muodosta binomijakauma kruunien lukumäärälle (klaavojen lukumäärä olisi symmetrinen)."
   ]
  },
  {
   "cell_type": "code",
   "execution_count": null,
   "metadata": {},
   "outputs": [],
   "source": [
    "## Code here"
   ]
  },
  {
   "cell_type": "markdown",
   "metadata": {},
   "source": [
    "11.2 Mikä on edellisen tehtävän binomijakauman odotusarvo ja keskihajonta? Mikä on todennäköisin arvo? Mikä on todennäköisyys, että tulee vähintään kolme kruunaa?"
   ]
  },
  {
   "cell_type": "code",
   "execution_count": null,
   "metadata": {},
   "outputs": [],
   "source": [
    "## Code here"
   ]
  },
  {
   "cell_type": "markdown",
   "metadata": {},
   "source": [
    "11.3 Kymmentä noppaa heitetään, millä todennäköisyydellä tulee vähintään kaksi kuutosta?"
   ]
  },
  {
   "cell_type": "code",
   "execution_count": null,
   "metadata": {},
   "outputs": [],
   "source": [
    "## Code here"
   ]
  },
  {
   "cell_type": "markdown",
   "metadata": {},
   "source": [
    "11.4 Opiskelija myöhästyy luennolta todennäköisyydellä 0,15. Kuinka monta kertaa hän myöhästyy 200 luennolta keskimäärin? Millä todennäköisyydellä hän myöhästyy tasan odotusarvon määrältä luentoja?"
   ]
  },
  {
   "cell_type": "code",
   "execution_count": null,
   "metadata": {},
   "outputs": [],
   "source": [
    "## Code here"
   ]
  },
  {
   "cell_type": "markdown",
   "metadata": {},
   "source": [
    "11.5 Onnettomuuksien määrä Turussa yhden päivän aikana on diskreetti satunnaismuuttuja 𝑋 ja se noudattaa Poisson-jakaumaa parametrilla 𝜆=3,9, eli 𝑋~𝑃𝑜(3,9). Laske tämän jakauman 10 ensimmäisen arvon todennäköisyydet. Mikä on todennäköisin onnettomuuksien lukumäärä päivässä? Mikä on todennäköisyys, että onnettomuuksia tapahtuu enintään 4."
   ]
  },
  {
   "cell_type": "code",
   "execution_count": null,
   "metadata": {},
   "outputs": [],
   "source": [
    "## Code here"
   ]
  },
  {
   "cell_type": "markdown",
   "metadata": {},
   "source": [
    "11.6 Matematiikan kurssista hylätyn saaneita opiskelijoita on keskimäärin 5,7 yhtä kurssia kohden ja heidän lukumääränsä noudattaa Poisson-jakaumaa. Laske tämän jakauman 10 ensimmäisen arvon todennäköisyydet. Mikä on jakauman keskihajonta? Laske myös 𝑃(𝑋≥2)."
   ]
  },
  {
   "cell_type": "code",
   "execution_count": null,
   "metadata": {},
   "outputs": [],
   "source": [
    "## Code here"
   ]
  }
 ],
 "metadata": {
  "language_info": {
   "name": "python"
  },
  "orig_nbformat": 4
 },
 "nbformat": 4,
 "nbformat_minor": 2
}
