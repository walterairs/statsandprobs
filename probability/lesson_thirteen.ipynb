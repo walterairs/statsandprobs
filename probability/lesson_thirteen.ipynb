{
 "cells": [
  {
   "cell_type": "code",
   "execution_count": null,
   "metadata": {},
   "outputs": [],
   "source": [
    "import numpy\n",
    "import pandas\n",
    "import matplotlib.pyplot as plt\n",
    "import scipy"
   ]
  },
  {
   "cell_type": "markdown",
   "metadata": {},
   "source": [
    "13.1 Satunnaismuuttuja 𝑋 noudattaa standardinormaalijakaumaa 𝑋~𝑁(0,1). Laske käyttäen kertymäfunktion taulukoituja arvoja todennäköisyydet 𝑃(𝑋<−0,5) ja 𝑃(𝑋>2,3)."
   ]
  },
  {
   "cell_type": "code",
   "execution_count": null,
   "metadata": {},
   "outputs": [],
   "source": [
    "## Code here"
   ]
  },
  {
   "cell_type": "markdown",
   "metadata": {},
   "source": [
    "13.2 Satunnaismuuttuja 𝑋 noudattaa standardinormaalijakaumaa 𝑋~𝑁(0,1). Laske käyttäen kertymäfunktion taulukoituja arvoja todennäköisyys 𝑃(−1,1<𝑋<1,1)."
   ]
  },
  {
   "cell_type": "code",
   "execution_count": null,
   "metadata": {},
   "outputs": [],
   "source": [
    "## Code here"
   ]
  },
  {
   "cell_type": "markdown",
   "metadata": {},
   "source": [
    "13.3 Satunnaismuuttuja 𝑋 noudattaa standardinormaalijakaumaa 𝑋~𝑁(0,1). Olkoon 𝑃(𝑋>0,5)=0,31, 𝑃(−1,5<𝑋<0,5)=0,62 ja 𝑃(𝑋<−0,2)=0,42. Laske pelkästään näiden tietojen perusteella todennäköisyydet 𝑃(−0,2<𝑋<0,5), 𝑃(𝑋>−0,2) ja 𝑃(𝑋<−1,5)."
   ]
  },
  {
   "cell_type": "code",
   "execution_count": null,
   "metadata": {},
   "outputs": [],
   "source": [
    "## Code here"
   ]
  },
  {
   "cell_type": "markdown",
   "metadata": {},
   "source": [
    "13.4 Määritä 𝑎 kun tiedetään, että satunnaismuuttujalle 𝑋~𝑁(0,1) pätee 𝑃(𝑋≤𝑎)=0,2."
   ]
  },
  {
   "cell_type": "code",
   "execution_count": null,
   "metadata": {},
   "outputs": [],
   "source": [
    "## Code here"
   ]
  },
  {
   "cell_type": "markdown",
   "metadata": {},
   "source": [
    "13.5 Määritä 𝑎 kun tiedetään, että satunnaismuuttujalle 𝑋~𝑁(0,1) pätee 𝑃(−𝑎≤𝑋≤𝑎)=0,2."
   ]
  },
  {
   "cell_type": "code",
   "execution_count": null,
   "metadata": {},
   "outputs": [],
   "source": [
    "## Code here"
   ]
  },
  {
   "cell_type": "markdown",
   "metadata": {},
   "source": [
    "13.6 Määritä 𝑎 kun tiedetään, että satunnaismuuttujalle 𝑋~𝑁(0,1) pätee 𝑃(𝑋≥𝑎2−3)=0,2."
   ]
  },
  {
   "cell_type": "code",
   "execution_count": null,
   "metadata": {},
   "outputs": [],
   "source": [
    "## Code here"
   ]
  }
 ],
 "metadata": {
  "language_info": {
   "name": "python"
  },
  "orig_nbformat": 4
 },
 "nbformat": 4,
 "nbformat_minor": 2
}
